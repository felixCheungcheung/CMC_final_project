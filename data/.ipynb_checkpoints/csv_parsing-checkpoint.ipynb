{
 "cells": [
  {
   "cell_type": "code",
   "execution_count": 1,
   "id": "7429fcf5",
   "metadata": {},
   "outputs": [],
   "source": [
    "import pandas as pd"
   ]
  },
  {
   "cell_type": "code",
   "execution_count": 3,
   "id": "60aab5d7",
   "metadata": {},
   "outputs": [],
   "source": [
    "ano_df = pd.read_csv('choro.tsv', sep = '\\t')"
   ]
  },
  {
   "cell_type": "code",
   "execution_count": 6,
   "id": "f496e7f4",
   "metadata": {},
   "outputs": [
    {
     "data": {
      "text/plain": [
       "Index(['Unnamed: 0', 'global_key', 'local_key', 'global_meter', 'local_meter',\n",
       "       'local_mode', 'global_mode', 'path', 'phrase', 'part', 'bar_no',\n",
       "       'duration', 'chord', 'root', 'rn_chord', 'sd', 'type', 'added',\n",
       "       'extensions', 'bass_note', 'songbook', 'title', 'composer', 'sub_genre',\n",
       "       'year', 'filename'],\n",
       "      dtype='object')"
      ]
     },
     "execution_count": 6,
     "metadata": {},
     "output_type": "execute_result"
    }
   ],
   "source": [
    "ano_df.columns"
   ]
  },
  {
   "cell_type": "code",
   "execution_count": null,
   "id": "ec69f9d5",
   "metadata": {},
   "outputs": [],
   "source": []
  }
 ],
 "metadata": {
  "kernelspec": {
   "display_name": "Python 3 (ipykernel)",
   "language": "python",
   "name": "python3"
  },
  "language_info": {
   "codemirror_mode": {
    "name": "ipython",
    "version": 3
   },
   "file_extension": ".py",
   "mimetype": "text/x-python",
   "name": "python",
   "nbconvert_exporter": "python",
   "pygments_lexer": "ipython3",
   "version": "3.8.0"
  }
 },
 "nbformat": 4,
 "nbformat_minor": 5
}
